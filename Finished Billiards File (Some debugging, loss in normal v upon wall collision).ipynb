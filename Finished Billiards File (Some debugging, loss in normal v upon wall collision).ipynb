{
 "cells": [
  {
   "cell_type": "code",
   "execution_count": 83,
   "metadata": {
    "collapsed": true
   },
   "outputs": [],
   "source": [
    "import numpy as np\n",
    "import scipy.integrate as integrate\n",
    "import matplotlib.pyplot as plt\n",
    "import matplotlib.animation as animation\n",
    "import matplotlib.patches as patches\n",
    "% matplotlib inline"
   ]
  },
  {
   "cell_type": "code",
   "execution_count": 4,
   "metadata": {
    "collapsed": false
   },
   "outputs": [],
   "source": [
    "#Tests to see if there is a collision between two pool balls\n",
    "#Input: Position vectors, velocity vectors, timestep dt\n",
    "#Output: True or False\n",
    "\n",
    "def collision_detection_bb(r1,r2,v1,v2,dt):\n",
    "    r1_f = r1 + v1*dt\n",
    "    r2_f = r2 + v2*dt\n",
    "    \n",
    "    r_f = np.abs(r1_f - r2_f)\n",
    "    r = np.sqrt(np.dot(r_f,r_f))\n",
    "    \n",
    "    if r < 2*R:\n",
    "        return True\n",
    "    else:\n",
    "        return False"
   ]
  },
  {
   "cell_type": "code",
   "execution_count": null,
   "metadata": {
    "collapsed": false,
    "scrolled": true
   },
   "outputs": [],
   "source": []
  },
  {
   "cell_type": "code",
   "execution_count": 132,
   "metadata": {
    "collapsed": false,
    "scrolled": true
   },
   "outputs": [
    {
     "name": "stdout",
     "output_type": "stream",
     "text": [
      "hey\n"
     ]
    },
    {
     "data": {
      "text/plain": [
       "[<matplotlib.lines.Line2D at 0x3100fc88>]"
      ]
     },
     "execution_count": 132,
     "metadata": {},
     "output_type": "execute_result"
    },
    {
     "data": {
      "image/png": "[encoded data removed]",
      "text/plain": [
       "<matplotlib.figure.Figure at 0x25d11080>"
      ]
     },
     "metadata": {},
     "output_type": "display_data"
    }
   ],
   "source": [
    "-"
   ]
  },
  {
   "cell_type": "code",
   "execution_count": 127,
   "metadata": {
    "collapsed": false,
    "scrolled": true
   },
   "outputs": [
    {
     "data": {
      "image/png": "[encoded data removed]",
      "text/plain": [
       "<matplotlib.figure.Figure at 0x32aeb320>"
      ]
     },
     "metadata": {},
     "output_type": "display_data"
    }
   ],
   "source": [
    "def timeplot(pool,t,N):\n",
    "    \n",
    "    tlen = len(t)\n",
    "    \n",
    "\n",
    "    xball1 = np.zeros([N+1])\n",
    "    yball1 = np.zeros([N+1])\n",
    "    xball2 = np.zeros([N+1])\n",
    "    yball2 = np.zeros([N+1])\n",
    "    for i in range(0,N):\n",
    "        xball1[i] = pool[0,(tlen/N)*i,0]\n",
    "        yball1[i] = pool[0,(tlen/N)*i,1]\n",
    "        xball2[i] = pool[1,(tlen/N)*i,0]\n",
    "        yball2[i] = pool[1,(tlen/N)*i,1]\n",
    "    \n",
    "    plt.figure(figsize = (3,6))\n",
    "    plt.xlim(0,1)\n",
    "    plt.ylim(0,2)\n",
    "    plt.scatter(xball1,yball1,color = 'r')\n",
    "    plt.scatter(xball2,yball2,color = 'b')\n",
    "\n",
    "N = 200    \n",
    "timeplot(pool,t,N)   \n",
    "    "
   ]
  },
  {
   "cell_type": "code",
   "execution_count": 128,
   "metadata": {
    "collapsed": false
   },
   "outputs": [
    {
     "name": "stdout",
     "output_type": "stream",
     "text": [
      "hey\n"
     ]
    },
    {
     "data": {
      "image/png": "[encoded data removed]",
      "text/plain": [
       "<matplotlib.figure.Figure at 0x324c5c88>"
      ]
     },
     "metadata": {},
     "output_type": "display_data"
    }
   ],
   "source": [
    "x0a = .5\n",
    "y0a = .1\n",
    "z0a = 0\n",
    "vx0a = 0.01\n",
    "vy0a = 6.\n",
    "vz0a = 0\n",
    "wx0a = -400\n",
    "wy0a = 0\n",
    "wz0a = 0.01\n",
    "x0b = .505\n",
    "y0b = .5\n",
    "z0b = 0\n",
    "vx0b = 0.01\n",
    "vy0b = 0.01\n",
    "vz0b = 0\n",
    "wx0b = 0\n",
    "wy0b = 0\n",
    "wz0b = 0.01\n",
    "\n",
    "initc = np.array([x0a,y0a,vx0a,vy0a,vz0a,wx0a,wy0a,wz0a])\n",
    "initd = np.array([x0b,y0b,vx0b,vy0b,vz0b,wx0b,wy0b,wz0b])\n",
    "pool2 = pool_solver(initc,initd,t)\n",
    "timeplot(pool2,t,N)\n"
   ]
  },
  {
   "cell_type": "code",
   "execution_count": 125,
   "metadata": {
    "collapsed": false
   },
   "outputs": [
    {
     "data": {
      "image/png": "[encoded data removed]",
      "text/plain": [
       "<matplotlib.figure.Figure at 0x314445c0>"
      ]
     },
     "metadata": {},
     "output_type": "display_data"
    }
   ],
   "source": [
    "x0a = .5\n",
    "y0a = .1\n",
    "z0a = 0\n",
    "vx0a = -2\n",
    "vy0a = 2\n",
    "vz0a = 0\n",
    "wx0a = 0\n",
    "wy0a = 0\n",
    "wz0a = 0.01\n",
    "x0b = .505\n",
    "y0b = .5\n",
    "z0b = 0\n",
    "vx0b = 0.01\n",
    "vy0b = 0.01\n",
    "vz0b = 0\n",
    "wx0b = 0\n",
    "wy0b = 0\n",
    "wz0b = 0.01\n",
    "\n",
    "initc = np.array([x0a,y0a,vx0a,vy0a,vz0a,wx0a,wy0a,wz0a])\n",
    "initd = np.array([x0b,y0b,vx0b,vy0b,vz0b,wx0b,wy0b,wz0b])\n",
    "pool2 = pool_solver(initc,initd,t)\n",
    "#demonstration of semi-realistic curve after wall deflection\n",
    "timeplot(pool2,t,N)\n"
   ]
  },
  {
   "cell_type": "code",
   "execution_count": 134,
   "metadata": {
    "collapsed": false
   },
   "outputs": [
    {
     "name": "stdout",
     "output_type": "stream",
     "text": [
      "hey\n",
      "hey\n"
     ]
    },
    {
     "data": {
      "image/png": "[encoded data removed]",
      "text/plain": [
       "<matplotlib.figure.Figure at 0x32748748>"
      ]
     },
     "metadata": {},
     "output_type": "display_data"
    }
   ],
   "source": [
    "x0a = .5\n",
    "y0a = .1\n",
    "z0a = 0\n",
    "vx0a = 0.01\n",
    "vy0a = 20.\n",
    "vz0a = 0\n",
    "wx0a = 0\n",
    "wy0a = 0\n",
    "wz0a = 0.01\n",
    "x0b = .51\n",
    "y0b = .5\n",
    "z0b = 0\n",
    "vx0b = 0.01\n",
    "vy0b = 0.01\n",
    "vz0b = 0\n",
    "wx0b = 0\n",
    "wy0b = 0\n",
    "wz0b = 0.01\n",
    "N = 700\n",
    "initc = np.array([x0a,y0a,vx0a,vy0a,vz0a,wx0a,wy0a,wz0a])\n",
    "initd = np.array([x0b,y0b,vx0b,vy0b,vz0b,wx0b,wy0b,wz0b])\n",
    "pool2 = pool_solver(initc,initd,t)\n",
    "timeplot(pool2,t,N)\n",
    "#nice multi-collision illustration"
   ]
  },
  {
   "cell_type": "code",
   "execution_count": null,
   "metadata": {
    "collapsed": true
   },
   "outputs": [],
   "source": []
  }
 ],
 "metadata": {
  "kernelspec": {
   "display_name": "Python 2",
   "language": "python",
   "name": "python2"
  },
  "language_info": {
   "codemirror_mode": {
    "name": "ipython",
    "version": 2
   },
   "file_extension": ".py",
   "mimetype": "text/x-python",
   "name": "python",
   "nbconvert_exporter": "python",
   "pygments_lexer": "ipython2",
   "version": "2.7.10"
  }
 },
 "nbformat": 4,
 "nbformat_minor": 0
}
