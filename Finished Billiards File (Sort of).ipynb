{
 "cells": [
  {
   "cell_type": "code",
   "execution_count": 139,
   "metadata": {
    "collapsed": true
   },
   "outputs": [],
   "source": [
    "import numpy as np\n",
    "import scipy.integrate as integrate\n",
    "import matplotlib.pyplot as plt\n",
    "% matplotlib inline"
   ]
  },
  {
   "cell_type": "code",
   "execution_count": 22,
   "metadata": {
    "collapsed": false
   },
   "outputs": [],
   "source": [
    "#Tests to see if there is a collision between two pool balls\n",
    "#Input: Position vectors, velocity vectors, timestep dt\n",
    "#Output: True or False\n",
    "R = 2\n",
    "def collision_detection_bb(r1,r2,v1,v2,dt):\n",
    "    r1_f = r1 + v1*dt\n",
    "    r2_f = r2 + v2*dt\n",
    "    \n",
    "    r_f = np.abs(r1_f - r2_f)\n",
    "    r = np.sqrt(np.dot(r_f,r_f))\n",
    "    \n",
    "    if r < 2*R:\n",
    "        return True\n",
    "    else:\n",
    "        return False\n",
    "\n",
    "\n",
    "#Tests to see if there is a pool ball and wall collision\n",
    "#Input: Position vectors, velocity vectors, timestep dt\n",
    "#Output: True or False\n",
    "#cd = collision detection\n",
    "def cd_b_side(x,vx,dt):\n",
    "    Table_x = 4\n",
    "    xf = x + vx*dt\n",
    "     \n",
    "    if xf < R:\n",
    "        return True\n",
    "    elif Table_x - xf < R:\n",
    "        return True\n",
    "    else:\n",
    "        return False\n",
    "def cd_b_back_front(y,vy,dt):\n",
    "    Table_y = 10\n",
    "    yf = y + vy*dt\n",
    "    if yf < R:\n",
    "        return True\n",
    "    elif Table_y - yf < R:\n",
    "        return True"
   ]
  },
  {
   "cell_type": "code",
   "execution_count": 134,
   "metadata": {
    "collapsed": false,
    "scrolled": true
   },
   "outputs": [
    {
     "name": "stdout",
     "output_type": "stream",
     "text": [
      "Excess work done on this call (perhaps wrong Dfun type).\n",
      "Run with full_output = 1 to get quantitative information.\n",
      "Excess accuracy requested (tolerances too small).\n",
      "Run with full_output = 1 to get quantitative information.\n"
     ]
    },
    {
     "name": "stderr",
     "output_type": "stream",
     "text": [
      "C:\\Users\\Armand Salimnejad\\Anaconda\\lib\\site-packages\\ipykernel\\__main__.py:37: RuntimeWarning: divide by zero encountered in divide\n",
      "C:\\Users\\Armand Salimnejad\\Anaconda\\lib\\site-packages\\ipykernel\\__main__.py:37: RuntimeWarning: invalid value encountered in divide\n"
     ]
    },
    {
     "data": {
      "image/png": "[encoded data removed]",
      "text/plain": [
       "<matplotlib.figure.Figure at 0x189faa20>"
      ]
     },
     "metadata": {},
     "output_type": "display_data"
    }
   ],
   "source": [
    "R = .1\n",
    "g = 9.8\n",
    "muSlip = .7\n",
    "x0 = .2\n",
    "y0 = .2\n",
    "vx0 = 1.\n",
    "vy0 = 2.\n",
    "wx0 = 0\n",
    "wy0 = 200\n",
    "wz0 = 0\n",
    "Table_x = 4\n",
    "Table_y = 10\n",
    "\n",
    "#                               0  1  2   3   4   5   6\n",
    "initBilliardsArray = np.array([x0,y0,vx0,vy0,wx0,wy0,wz0])\n",
    "\n",
    "\n",
    "def BilliardsODEModel(ball,t):\n",
    "    \n",
    "    x = ball[0]\n",
    "    y = ball[1]\n",
    "    vx = ball[2]\n",
    "    vy = ball[3]\n",
    "    wx = ball[4]\n",
    "    wy = ball[5]\n",
    "    wz = ball[6]\n",
    "    \n",
    "    #we're gonna need some vectors\n",
    "    xhat = np.array([1,0,0])\n",
    "    yhat = np.array([0,1,0])\n",
    "    zhat = np.array([0,0,1])\n",
    "    v = np.array([vx,vy,0])\n",
    "    w = np.array([wx,wy,wz])\n",
    "    \n",
    "    #sliding velocity (any component of the velocity that isn't countered by the roll of the ball)\n",
    "    u = v + R*np.cross(zhat,w)\n",
    "    uhat = u/np.sqrt(np.dot(u,u))\n",
    "    \n",
    "    #when slipping\n",
    "    dvSlip = -muSlip*g*uhat\n",
    "    dwSlip = np.cross(zhat,uhat)*g*muSlip*5/(2*R)\n",
    "    \n",
    "    \n",
    "    \n",
    "    dx = vx\n",
    "    dy = vy\n",
    "    dvx = dvSlip[0]\n",
    "    dvy = dvSlip[1]\n",
    "    dwx = dwSlip[0]\n",
    "    dwy = dwSlip[1]\n",
    "    dwz = dwSlip[2]\n",
    "    \n",
    "    return np.array([dx,dy,dvx,dvy,dwx,dwy,dwz])\n",
    "\n",
    "t = np.linspace(0,2,101)\n",
    "dt = t[1] - t[0]\n",
    "\n",
    "MainBilliardsArray = np.zeros(shape = (1000,7))\n",
    "MBL = 0\n",
    "\n",
    "      \n",
    "    \n",
    "billiardsArray = integrate.odeint(BilliardsODEModel,initBilliardsArray,t)\n",
    "\n",
    "plt.plot(billiardsArray[:,0],billiardsArray[:,1])\n",
    "\n",
    "newBilliardsInits = np.array([0,0,0,0,0,0,0])\n",
    "for i in range(0,len(billiardsArray)):\n",
    "    MainBilliardsArray[MBL] = billiardsArray[i]\n",
    "    MBL += 1    \n",
    "    if cd_b_side(billiardsArray[i,0],billiardsArray[i,2],dt):\n",
    "        newBilliardsInits = billiardsArray[i]\n",
    "        newBilliardsInits[2] = -billiardsArray[i,2]\n",
    "        break\n",
    "    elif cd_b_back_front(billiardsArray[i,1],billiardsArray[i,3],dt):\n",
    "        newBilliardsInits = billiardsArray[i]\n",
    "        newBilliardsInits[3] = -billiardsArray[i,3]\n",
    "        break\n",
    "    else:\n",
    "        newBilliardsInits = billiardsArray[i]    \n",
    "    \n",
    "billiardsArray = integrate.odeint(BilliardsODEModel,newBilliardsInits,t)\n",
    "\n",
    "#plt.plot(MainBilliardsArray[:,0],MainBilliardsArray[:,1])\n",
    "#plt.plot(billiardsArray[:,0],billiardsArray[:,1])\n"
   ]
  },
  {
   "cell_type": "code",
   "execution_count": 144,
   "metadata": {
    "collapsed": false
   },
   "outputs": [
    {
     "data": {
      "text/plain": [
       "[<matplotlib.lines.Line2D at 0x1bdcb8d0>]"
      ]
     },
     "execution_count": 144,
     "metadata": {},
     "output_type": "execute_result"
    },
    {
     "data": {
      "image/png": "[encoded data removed]",
      "text/plain": [
       "<matplotlib.figure.Figure at 0x17a7c7b8>"
      ]
     },
     "metadata": {},
     "output_type": "display_data"
    }
   ],
   "source": [
    "R = .1\n",
    "g = 9.8\n",
    "muSlip = .7\n",
    "x0 = .2\n",
    "y0 = .2\n",
    "vx0 = 1.\n",
    "vy0 = 2.\n",
    "wx0 = 0\n",
    "wy0 = 200\n",
    "wz0 = 0\n",
    "Table_x = 4\n",
    "Table_y = 10\n",
    "\n",
    "#                               0  1  2   3   4   5   6\n",
    "initBilliardsArray = np.array([x0,y0,vx0,vy0,wx0,wy0,wz0])\n",
    "\n",
    "def pool_solver(init, t):\n",
    "    \n",
    "  \n",
    "    \n",
    "    dt = t[1]-t[0]\n",
    "    b = np.zeros(shape = (len(t),7))\n",
    "    b[0] = init\n",
    "    \n",
    "    for i in range(1, len(t)):\n",
    "        x = b[i-1,0]\n",
    "        y = b[i-1,1]\n",
    "        vx = b[i-1,2]\n",
    "        vy = b[i-1,3]\n",
    "        wx = b[i-1,4]\n",
    "        wy = b[i-1,5]\n",
    "        wz = b[i-1,6]\n",
    "        \n",
    "         #we're gonna need some vectors\n",
    "        xhat = np.array([1,0,0])\n",
    "        yhat = np.array([0,1,0])\n",
    "        zhat = np.array([0,0,1])\n",
    "        v = np.array([vx,vy,0])\n",
    "        w = np.array([wx,wy,wz])\n",
    "    \n",
    "        #sliding velocity (any component of the velocity that isn't countered by the roll of the ball)\n",
    "        u = v + R*np.cross(zhat,w)\n",
    "        uhat = u/np.sqrt(np.dot(u,u))\n",
    "    \n",
    "        #when slipping\n",
    "        dvSlip = -muSlip*g*uhat\n",
    "        dwSlip = np.cross(zhat,uhat)*g*muSlip*5/(2*R)\n",
    "        \n",
    "        dx = vx\n",
    "        dy = vy\n",
    "        dvx = dvSlip[0]\n",
    "        dvy = dvSlip[1]\n",
    "        dwx = dwSlip[0]\n",
    "        dwy = dwSlip[1]\n",
    "        dwz = dwSlip[2]\n",
    "        \n",
    "        b[i,0] = x + dt*dx\n",
    "        b[i,1] = y + dt*dy\n",
    "        b[i,2] = vx + dt*dvx\n",
    "        b[i,3] = vy + dt*dvy\n",
    "        b[i,4] = wx + dt*dwx\n",
    "        b[i,5] = wy + dt*dwy\n",
    "        b[i,6] = wz + dt*dwz\n",
    "        \n",
    "    return b\n",
    "        \n",
    "t = np.linspace(0,1,101)\n",
    "\n",
    "pool = pool_solver(initBilliardsArray,t)\n",
    "\n",
    "plt.plot(pool[:,0],pool[:,1])"
   ]
  },
  {
   "cell_type": "code",
   "execution_count": null,
   "metadata": {
    "collapsed": true
   },
   "outputs": [],
   "source": []
  }
 ],
 "metadata": {
  "kernelspec": {
   "display_name": "Python 2",
   "language": "python",
   "name": "python2"
  },
  "language_info": {
   "codemirror_mode": {
    "name": "ipython",
    "version": 2
   },
   "file_extension": ".py",
   "mimetype": "text/x-python",
   "name": "python",
   "nbconvert_exporter": "python",
   "pygments_lexer": "ipython2",
   "version": "2.7.10"
  }
 },
 "nbformat": 4,
 "nbformat_minor": 0
}
